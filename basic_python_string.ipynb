{
 "cells": [
  {
   "attachments": {},
   "cell_type": "markdown",
   "metadata": {},
   "source": [
    "Python's string\n",
    "---------------"
   ]
  },
  {
   "attachments": {},
   "cell_type": "markdown",
   "metadata": {},
   "source": [
    "#### 1. 문자열 표현"
   ]
  },
  {
   "cell_type": "code",
   "execution_count": 1,
   "metadata": {},
   "outputs": [
    {
     "name": "stdout",
     "output_type": "stream",
     "text": [
      "Hello world!\n",
      "My name is OVi,\n",
      "Python is\n",
      "so funny\n",
      "and easy\n",
      "than other langueges\n"
     ]
    }
   ],
   "source": [
    "print('Hello world!')\n",
    "print(\"My name is OVi,\")\n",
    "print('''Python is\n",
    "so funny''')\n",
    "print(\"\"\"and easy\n",
    "than other langueges\"\"\")\n",
    "# 4가지의 표현법\n",
    "# 따옴표 3개 표현은 긴 문장등을 깔끔하게 보기 위해서 작성 / 여러줄로 작성 가능"
   ]
  },
  {
   "cell_type": "code",
   "execution_count": 2,
   "metadata": {},
   "outputs": [
    {
     "name": "stdout",
     "output_type": "stream",
     "text": [
      "Python's great languege\n",
      "it's not that hard\n",
      "\"Life is short, You need PYthon\"\n"
     ]
    }
   ],
   "source": [
    "# 따옴표 문자열로 표현\n",
    "print(\"Python's great languege\") # 문자열을 큰 따옴표로 감싸고 작은 따옴표는 그대로 작성\n",
    "print('it\\'s not that hard') # \\' 로 표현\n",
    "print('\\\"Life is short, You need PYthon\\\"') # \\\" 로 표현"
   ]
  },
  {
   "cell_type": "code",
   "execution_count": 3,
   "metadata": {},
   "outputs": [
    {
     "name": "stdout",
     "output_type": "stream",
     "text": [
      "\\\n",
      "a\n",
      "b\n",
      "a\tb\n"
     ]
    }
   ],
   "source": [
    "print('\\\\') # \\ 역슬래쉬 표현\n",
    "print('a\\nb') # 줄바꿈 (개행)\n",
    "print('a\\tb') # 탭크기 만큼 띄어쓰기"
   ]
  },
  {
   "attachments": {},
   "cell_type": "markdown",
   "metadata": {},
   "source": [
    "#### 2.문자열 연산"
   ]
  },
  {
   "cell_type": "code",
   "execution_count": 4,
   "metadata": {},
   "outputs": [
    {
     "data": {
      "text/plain": [
       "'My name is OVi'"
      ]
     },
     "execution_count": 4,
     "metadata": {},
     "output_type": "execute_result"
    }
   ],
   "source": [
    "# string concatenation in +\n",
    "head = 'My name is '\n",
    "tail = 'OVi'\n",
    "head + tail"
   ]
  },
  {
   "cell_type": "code",
   "execution_count": 5,
   "metadata": {},
   "outputs": [
    {
     "data": {
      "text/plain": [
       "'OViOVi'"
      ]
     },
     "execution_count": 5,
     "metadata": {},
     "output_type": "execute_result"
    }
   ],
   "source": [
    "# string Multiplication\n",
    "tail * 2"
   ]
  },
  {
   "cell_type": "code",
   "execution_count": 6,
   "metadata": {},
   "outputs": [
    {
     "name": "stdout",
     "output_type": "stream",
     "text": [
      "==================================================\n",
      "My program from 2023.03.08\n",
      "==================================================\n"
     ]
    }
   ],
   "source": [
    "# application\n",
    "print('=' * 50)\n",
    "print('My program from 2023.03.08')\n",
    "print('=' * 50)"
   ]
  },
  {
   "cell_type": "code",
   "execution_count": 7,
   "metadata": {},
   "outputs": [
    {
     "data": {
      "text/plain": [
       "29"
      ]
     },
     "execution_count": 7,
     "metadata": {},
     "output_type": "execute_result"
    }
   ],
   "source": [
    "# string length\n",
    "a = 'Life is short You need Python'\n",
    "len(a)\n",
    "# 공백도 포함"
   ]
  },
  {
   "attachments": {},
   "cell_type": "markdown",
   "metadata": {},
   "source": [
    "#### 3. 문자열 인덱싱과 슬라이스"
   ]
  },
  {
   "cell_type": "code",
   "execution_count": 8,
   "metadata": {},
   "outputs": [],
   "source": [
    "a = 'Life is short You need Python'"
   ]
  },
  {
   "cell_type": "code",
   "execution_count": 9,
   "metadata": {},
   "outputs": [
    {
     "data": {
      "text/plain": [
       "'L'"
      ]
     },
     "execution_count": 9,
     "metadata": {},
     "output_type": "execute_result"
    }
   ],
   "source": [
    "# Python's number count starting 0\n",
    "a[0]"
   ]
  },
  {
   "cell_type": "code",
   "execution_count": 10,
   "metadata": {},
   "outputs": [
    {
     "data": {
      "text/plain": [
       "'n'"
      ]
     },
     "execution_count": 10,
     "metadata": {},
     "output_type": "execute_result"
    }
   ],
   "source": [
    "# - 는 뒤부터 출력\n",
    "a[-1] # 맨 뒤"
   ]
  },
  {
   "cell_type": "code",
   "execution_count": 11,
   "metadata": {},
   "outputs": [
    {
     "name": "stdout",
     "output_type": "stream",
     "text": [
      "Life\n",
      "Lif\n",
      "You need Python\n",
      "Life is short \n",
      "Life is short You need Python\n",
      "You need\n"
     ]
    }
   ],
   "source": [
    "# slicing\n",
    "# [start:end] <- end는 출력되지 않고 바로 앞 문자까지 출력 됨\n",
    "print(a[0:4])\n",
    "print(a[0:3])\n",
    "\n",
    "# end를 지정하지 않으면 끝까지 출력\n",
    "print(a[14:])\n",
    "# 반대로  start를 지정하지 않으면 처음부터 end바로 전까지 출력\n",
    "print(a[:14])\n",
    "# 둘다 생략하면 문자열 전체 출력\n",
    "print(a[:])\n",
    "\n",
    "# 응용\n",
    "print(a[14:-7])"
   ]
  },
  {
   "cell_type": "code",
   "execution_count": 12,
   "metadata": {},
   "outputs": [],
   "source": [
    "# 슬라이싱으로 문자열 나누기\n",
    "a = '20230308cloudy'\n",
    "date = a[:8]\n",
    "weather = a[8:]"
   ]
  },
  {
   "cell_type": "code",
   "execution_count": 13,
   "metadata": {},
   "outputs": [
    {
     "data": {
      "text/plain": [
       "'20230308'"
      ]
     },
     "execution_count": 13,
     "metadata": {},
     "output_type": "execute_result"
    }
   ],
   "source": [
    "date"
   ]
  },
  {
   "cell_type": "code",
   "execution_count": 14,
   "metadata": {},
   "outputs": [
    {
     "data": {
      "text/plain": [
       "'cloudy'"
      ]
     },
     "execution_count": 14,
     "metadata": {},
     "output_type": "execute_result"
    }
   ],
   "source": [
    "weather"
   ]
  },
  {
   "cell_type": "code",
   "execution_count": 15,
   "metadata": {},
   "outputs": [
    {
     "data": {
      "text/plain": [
       "'Python'"
      ]
     },
     "execution_count": 15,
     "metadata": {},
     "output_type": "execute_result"
    }
   ],
   "source": [
    "# 문자열 바꾸기\n",
    "a = 'Pithon'\n",
    "a[:1] + 'y' + a[2:]\n",
    "# 문자열은 인덱싱으로 내용을 바꾸어서 대입하는 것은 불가능"
   ]
  },
  {
   "attachments": {},
   "cell_type": "markdown",
   "metadata": {},
   "source": [
    "#### 4.문자열 포멧팅"
   ]
  },
  {
   "cell_type": "code",
   "execution_count": 16,
   "metadata": {},
   "outputs": [
    {
     "data": {
      "text/plain": [
       "\"I'm jogging 2 hours everyday\""
      ]
     },
     "execution_count": 16,
     "metadata": {},
     "output_type": "execute_result"
    }
   ],
   "source": [
    "# 문자열 안에 특정 값을 삽입할때 사용\n",
    "\n",
    "# 숫자 대입\n",
    "'I\\'m jogging %d hours everyday' % 2"
   ]
  },
  {
   "cell_type": "code",
   "execution_count": 17,
   "metadata": {},
   "outputs": [
    {
     "data": {
      "text/plain": [
       "\"I'm jogging two hours everyday\""
      ]
     },
     "execution_count": 17,
     "metadata": {},
     "output_type": "execute_result"
    }
   ],
   "source": [
    "# 문자 대입\n",
    "'I\\'m jogging %s hours everyday' % 'two'"
   ]
  },
  {
   "cell_type": "code",
   "execution_count": 18,
   "metadata": {},
   "outputs": [
    {
     "data": {
      "text/plain": [
       "\"I'm jogging 2 hours everyday\""
      ]
     },
     "execution_count": 18,
     "metadata": {},
     "output_type": "execute_result"
    }
   ],
   "source": [
    "# 변수 설정\n",
    "number = 2\n",
    "'I\\'m jogging %d hours everyday' % number"
   ]
  },
  {
   "cell_type": "code",
   "execution_count": 19,
   "metadata": {},
   "outputs": [
    {
     "data": {
      "text/plain": [
       "'I slept 7 hours last night, and waken at five am'"
      ]
     },
     "execution_count": 19,
     "metadata": {},
     "output_type": "execute_result"
    }
   ],
   "source": [
    "# 2개 이상의 값 넣기\n",
    "number = 7\n",
    "time = 'five'\n",
    "'I slept %d hours last night, and waken at %s am' % (number, time) # 콤마로 구분"
   ]
  },
  {
   "cell_type": "code",
   "execution_count": 20,
   "metadata": {},
   "outputs": [
    {
     "name": "stderr",
     "output_type": "stream",
     "text": [
      "UsageError: Line magic function `%s` not found.\n"
     ]
    }
   ],
   "source": [
    "# 문자열 포멧 코드\n",
    "%s  # 문자열 (string)\n",
    "%c  # 문자 1개 (character)\n",
    "%d  # 정수 (integer)\n",
    "%f  # 부동소수 (floating-point)\n",
    "%o  # 8진수\n",
    "%x  # 16진수\n",
    "%%  # Literal % (% 문자 자체)"
   ]
  },
  {
   "cell_type": "code",
   "execution_count": 21,
   "metadata": {},
   "outputs": [
    {
     "data": {
      "text/plain": [
       "'52.132 seconds'"
      ]
     },
     "execution_count": 21,
     "metadata": {},
     "output_type": "execute_result"
    }
   ],
   "source": [
    "# %s는 모든 입력을 문자열로 변환하여 출력\n",
    "'%s seconds' % 52.132"
   ]
  },
  {
   "cell_type": "code",
   "execution_count": 22,
   "metadata": {},
   "outputs": [
    {
     "data": {
      "text/plain": [
       "'     Hello'"
      ]
     },
     "execution_count": 22,
     "metadata": {},
     "output_type": "execute_result"
    }
   ],
   "source": [
    "# 포멧코드 앞에 숫자를 넣으면 문자열의 전체 길이를 지정하고 대입되는 값은 오른쪽 정렬\n",
    "'%10s' % 'Hello'"
   ]
  },
  {
   "cell_type": "code",
   "execution_count": 23,
   "metadata": {},
   "outputs": [
    {
     "data": {
      "text/plain": [
       "'Hello     world'"
      ]
     },
     "execution_count": 23,
     "metadata": {},
     "output_type": "execute_result"
    }
   ],
   "source": [
    "# 왼쪽 정렬\n",
    "'%-10sworld' % 'Hello'"
   ]
  },
  {
   "cell_type": "code",
   "execution_count": 24,
   "metadata": {},
   "outputs": [
    {
     "data": {
      "text/plain": [
       "'3.1416'"
      ]
     },
     "execution_count": 24,
     "metadata": {},
     "output_type": "execute_result"
    }
   ],
   "source": [
    "# 소숫점 표현\n",
    "'%0.4f' % 3.141592 # 네자리 까지만 표현"
   ]
  },
  {
   "cell_type": "code",
   "execution_count": 25,
   "metadata": {},
   "outputs": [
    {
     "data": {
      "text/plain": [
       "'    3.1416'"
      ]
     },
     "execution_count": 25,
     "metadata": {},
     "output_type": "execute_result"
    }
   ],
   "source": [
    "# 공백과 같이 표현\n",
    "'%10.4f' % 3.141592 # 길이를 10으로 고정하고 소수점 아래 네자리 까지만 표현"
   ]
  },
  {
   "attachments": {},
   "cell_type": "markdown",
   "metadata": {},
   "source": [
    "* format 함수 사용"
   ]
  },
  {
   "cell_type": "code",
   "execution_count": 26,
   "metadata": {},
   "outputs": [
    {
     "data": {
      "text/plain": [
       "'I slept 7 hours last night'"
      ]
     },
     "execution_count": 26,
     "metadata": {},
     "output_type": "execute_result"
    }
   ],
   "source": [
    "# 숫자 대입\n",
    "'I slept {0} hours last night'.format(7)"
   ]
  },
  {
   "cell_type": "code",
   "execution_count": 27,
   "metadata": {},
   "outputs": [
    {
     "data": {
      "text/plain": [
       "'I slept seven hours last night'"
      ]
     },
     "execution_count": 27,
     "metadata": {},
     "output_type": "execute_result"
    }
   ],
   "source": [
    "# 문자 대입\n",
    "'I slept {0} hours last night'.format('seven')"
   ]
  },
  {
   "cell_type": "code",
   "execution_count": 28,
   "metadata": {},
   "outputs": [
    {
     "data": {
      "text/plain": [
       "'I slept 7 hours last night'"
      ]
     },
     "execution_count": 28,
     "metadata": {},
     "output_type": "execute_result"
    }
   ],
   "source": [
    "# 변수 대입\n",
    "number = 7\n",
    "'I slept {0} hours last night'.format(number)"
   ]
  },
  {
   "cell_type": "code",
   "execution_count": 29,
   "metadata": {},
   "outputs": [
    {
     "data": {
      "text/plain": [
       "'I slept seven hours last night, and waken at 5 am'"
      ]
     },
     "execution_count": 29,
     "metadata": {},
     "output_type": "execute_result"
    }
   ],
   "source": [
    "# 변수 2개 이상 대입하기\n",
    "number = 'seven'\n",
    "time = 5\n",
    "'I slept {0} hours last night, and waken at {1} am'.format(number, time) # 콤마로 구분\n",
    "# 매칭되는 format의 인자 순서와 인덱스 순서에 따라 대입"
   ]
  },
  {
   "cell_type": "code",
   "execution_count": 30,
   "metadata": {},
   "outputs": [
    {
     "data": {
      "text/plain": [
       "'I slept seven hours last night, and waken at 5 am'"
      ]
     },
     "execution_count": 30,
     "metadata": {},
     "output_type": "execute_result"
    }
   ],
   "source": [
    "# 이름으로 넣기\n",
    "'I slept {number} hours last night, and waken at {time} am'.format(number = 'seven', time = 5) # 콤마로 구분\n",
    "# 대괄호 안에 변수의 이름을 넣어주면 직관적으로 알기 쉽다는 장점이 있음\n",
    "# {name}의 형태로 대입할 때는 format함수에 name=value 형대로 지정을 해줘야 함"
   ]
  },
  {
   "cell_type": "code",
   "execution_count": 31,
   "metadata": {},
   "outputs": [
    {
     "data": {
      "text/plain": [
       "'  Hello   '"
      ]
     },
     "execution_count": 31,
     "metadata": {},
     "output_type": "execute_result"
    }
   ],
   "source": [
    "# 왼쪽 정렬\n",
    "\"{0:<10}\".format('Hello')\n",
    "# 오른쪽 정렬\n",
    "\"{0:>10}\".format('Hello')\n",
    "# 가운데 정렬\n",
    "\"{0:^10}\".format('Hello')"
   ]
  },
  {
   "cell_type": "code",
   "execution_count": 32,
   "metadata": {},
   "outputs": [
    {
     "data": {
      "text/plain": [
       "'===Hello==='"
      ]
     },
     "execution_count": 32,
     "metadata": {},
     "output_type": "execute_result"
    }
   ],
   "source": [
    "# 공백 채우기\n",
    "\"{0:=^11}\".format('Hello')"
   ]
  },
  {
   "cell_type": "code",
   "execution_count": 33,
   "metadata": {},
   "outputs": [
    {
     "data": {
      "text/plain": [
       "'3.1416'"
      ]
     },
     "execution_count": 33,
     "metadata": {},
     "output_type": "execute_result"
    }
   ],
   "source": [
    "# 소숫점 표현\n",
    "a = 3.141592\n",
    "\"{0:0.4f}\".format(a)"
   ]
  },
  {
   "cell_type": "code",
   "execution_count": 34,
   "metadata": {},
   "outputs": [
    {
     "data": {
      "text/plain": [
       "'{a}'"
      ]
     },
     "execution_count": 34,
     "metadata": {},
     "output_type": "execute_result"
    }
   ],
   "source": [
    "# { } 문자 표현\n",
    "\"{{a}}\".format()"
   ]
  },
  {
   "attachments": {},
   "cell_type": "markdown",
   "metadata": {},
   "source": [
    "#### f 문자열 포멧팅  \n",
    "*파이썬 3.6버전부터 가능"
   ]
  },
  {
   "cell_type": "code",
   "execution_count": 35,
   "metadata": {},
   "outputs": [
    {
     "data": {
      "text/plain": [
       "'My name is OVi, and my age is 28'"
      ]
     },
     "execution_count": 35,
     "metadata": {},
     "output_type": "execute_result"
    }
   ],
   "source": [
    "name = 'OVi'\n",
    "age = 28\n",
    "f'My name is {name}, and my age is {age}'"
   ]
  },
  {
   "cell_type": "code",
   "execution_count": 36,
   "metadata": {},
   "outputs": [
    {
     "data": {
      "text/plain": [
       "'My name is OVi, and my age is 28'"
      ]
     },
     "execution_count": 36,
     "metadata": {},
     "output_type": "execute_result"
    }
   ],
   "source": [
    "# 딕셔너리로도 사용 가능\n",
    "info = {'name':'OVi', 'age':28}\n",
    "f'My name is {info[\"name\"]}, and my age is {info[\"age\"]}'"
   ]
  },
  {
   "cell_type": "code",
   "execution_count": 37,
   "metadata": {},
   "outputs": [
    {
     "data": {
      "text/plain": [
       "'Age : 29'"
      ]
     },
     "execution_count": 37,
     "metadata": {},
     "output_type": "execute_result"
    }
   ],
   "source": [
    "# 변수와 수식을 같이 사용하는것도 가능\n",
    "f'Age : {age+1}'"
   ]
  },
  {
   "cell_type": "code",
   "execution_count": 38,
   "metadata": {},
   "outputs": [
    {
     "data": {
      "text/plain": [
       "'  Hello   '"
      ]
     },
     "execution_count": 38,
     "metadata": {},
     "output_type": "execute_result"
    }
   ],
   "source": [
    "# 왼쪽 정렬\n",
    "f'{\"Hello\":<10}'\n",
    "# 오른쪽 정렬\n",
    "f'{\"Hello\":>10}'\n",
    "# 가운데 정렬\n",
    "f'{\"Hello\":^10}'"
   ]
  },
  {
   "cell_type": "code",
   "execution_count": 39,
   "metadata": {},
   "outputs": [
    {
     "data": {
      "text/plain": [
       "'===Hello==='"
      ]
     },
     "execution_count": 39,
     "metadata": {},
     "output_type": "execute_result"
    }
   ],
   "source": [
    "# 공백 채우기\n",
    "# 왼쪽 정렬\n",
    "f'{\"Hello\":=^11}'"
   ]
  },
  {
   "cell_type": "code",
   "execution_count": 40,
   "metadata": {},
   "outputs": [
    {
     "data": {
      "text/plain": [
       "'3.1416'"
      ]
     },
     "execution_count": 40,
     "metadata": {},
     "output_type": "execute_result"
    }
   ],
   "source": [
    "# 소숫점\n",
    "a = 3.141592\n",
    "f'{a:0.4f}'"
   ]
  },
  {
   "cell_type": "code",
   "execution_count": 41,
   "metadata": {},
   "outputs": [
    {
     "data": {
      "text/plain": [
       "'{a}'"
      ]
     },
     "execution_count": 41,
     "metadata": {},
     "output_type": "execute_result"
    }
   ],
   "source": [
    "# { } 문자 표현\n",
    "f'{{a}}'"
   ]
  },
  {
   "attachments": {},
   "cell_type": "markdown",
   "metadata": {},
   "source": [
    "#### string functions"
   ]
  },
  {
   "cell_type": "code",
   "execution_count": 42,
   "metadata": {},
   "outputs": [
    {
     "data": {
      "text/plain": [
       "2"
      ]
     },
     "execution_count": 42,
     "metadata": {},
     "output_type": "execute_result"
    }
   ],
   "source": [
    "# 문자 개수 세기 (count)\n",
    "c = 'Hello'\n",
    "c.count('l')\n",
    "# 문자열에서 인자의 문자의 개수를 반환"
   ]
  },
  {
   "cell_type": "code",
   "execution_count": 43,
   "metadata": {},
   "outputs": [
    {
     "data": {
      "text/plain": [
       "3"
      ]
     },
     "execution_count": 43,
     "metadata": {},
     "output_type": "execute_result"
    }
   ],
   "source": [
    "# 문자 위치 찾기 (find)\n",
    "c = 'Life is short, You need Python'\n",
    "c.find('e')\n",
    "# 동일한 문자가 여러개 있을경우 가장 앞에 있는 문자의 위치 반환"
   ]
  },
  {
   "cell_type": "code",
   "execution_count": 44,
   "metadata": {},
   "outputs": [
    {
     "data": {
      "text/plain": [
       "-1"
      ]
     },
     "execution_count": 44,
     "metadata": {},
     "output_type": "execute_result"
    }
   ],
   "source": [
    "# 찾는 문자나 문자열이 없는경우 -1 반환\n",
    "c.find('z')"
   ]
  },
  {
   "cell_type": "code",
   "execution_count": 45,
   "metadata": {},
   "outputs": [
    {
     "data": {
      "text/plain": [
       "8"
      ]
     },
     "execution_count": 45,
     "metadata": {},
     "output_type": "execute_result"
    }
   ],
   "source": [
    "# 문자 위치 찾기 (index)\n",
    "a = \"Life is too short\"\n",
    "a.index('t')\n",
    "# index도 동일하게 같은 문자가 있으면 앞에있는 문자의 위치 반환"
   ]
  },
  {
   "cell_type": "code",
   "execution_count": 46,
   "metadata": {},
   "outputs": [
    {
     "ename": "ValueError",
     "evalue": "substring not found",
     "output_type": "error",
     "traceback": [
      "\u001b[0;31m---------------------------------------------------------------------------\u001b[0m",
      "\u001b[0;31mValueError\u001b[0m                                Traceback (most recent call last)",
      "Cell \u001b[0;32mIn[46], line 2\u001b[0m\n\u001b[1;32m      1\u001b[0m \u001b[39m# 단, index함수는 없는 문자나 문자열일 경우 오류 발생\u001b[39;00m\n\u001b[0;32m----> 2\u001b[0m a\u001b[39m.\u001b[39;49mindex(\u001b[39m'\u001b[39;49m\u001b[39mz\u001b[39;49m\u001b[39m'\u001b[39;49m)\n",
      "\u001b[0;31mValueError\u001b[0m: substring not found"
     ]
    }
   ],
   "source": [
    "# 단, index함수는 없는 문자나 문자열일 경우 오류 발생\n",
    "a.index('z')"
   ]
  },
  {
   "cell_type": "code",
   "execution_count": 47,
   "metadata": {},
   "outputs": [
    {
     "data": {
      "text/plain": [
       "'a,b,c,d'"
      ]
     },
     "execution_count": 47,
     "metadata": {},
     "output_type": "execute_result"
    }
   ],
   "source": [
    "# 문자열 삽입 (join)\n",
    "','.join('abcd')\n",
    "# 인자의 문자열 사이에 지정한 구분기호 삽입"
   ]
  },
  {
   "cell_type": "code",
   "execution_count": 48,
   "metadata": {},
   "outputs": [
    {
     "data": {
      "text/plain": [
       "'a,b,c,d'"
      ]
     },
     "execution_count": 48,
     "metadata": {},
     "output_type": "execute_result"
    }
   ],
   "source": [
    "# 리스트나 튜플도 사용 가능\n",
    "','.join(['a', 'b', 'c', 'd'])"
   ]
  },
  {
   "cell_type": "code",
   "execution_count": 49,
   "metadata": {},
   "outputs": [
    {
     "data": {
      "text/plain": [
       "'HELLO'"
      ]
     },
     "execution_count": 49,
     "metadata": {},
     "output_type": "execute_result"
    }
   ],
   "source": [
    "# 소문자를 대문자로 변경 (upper)\n",
    "a = 'hello'\n",
    "a.upper()"
   ]
  },
  {
   "cell_type": "code",
   "execution_count": 50,
   "metadata": {},
   "outputs": [
    {
     "data": {
      "text/plain": [
       "'hello'"
      ]
     },
     "execution_count": 50,
     "metadata": {},
     "output_type": "execute_result"
    }
   ],
   "source": [
    "# 대문자를 소문자로 변경 (lower)\n",
    "a = 'HELLO'\n",
    "a.lower()"
   ]
  },
  {
   "cell_type": "code",
   "execution_count": 51,
   "metadata": {},
   "outputs": [
    {
     "data": {
      "text/plain": [
       "'Hello  '"
      ]
     },
     "execution_count": 51,
     "metadata": {},
     "output_type": "execute_result"
    }
   ],
   "source": [
    "# 왼쪽 공백 지우기 (lstrip)\n",
    "a = '  Hello  '\n",
    "a.lstrip()"
   ]
  },
  {
   "cell_type": "code",
   "execution_count": 52,
   "metadata": {},
   "outputs": [
    {
     "data": {
      "text/plain": [
       "'  Hello'"
      ]
     },
     "execution_count": 52,
     "metadata": {},
     "output_type": "execute_result"
    }
   ],
   "source": [
    "# 오른쪽 공백 지우기 (rstrip)\n",
    "a.rstrip()"
   ]
  },
  {
   "cell_type": "code",
   "execution_count": 53,
   "metadata": {},
   "outputs": [
    {
     "data": {
      "text/plain": [
       "'Hello'"
      ]
     },
     "execution_count": 53,
     "metadata": {},
     "output_type": "execute_result"
    }
   ],
   "source": [
    "# 양쪽 공백 지우기 (strip)\n",
    "a.strip()"
   ]
  },
  {
   "cell_type": "code",
   "execution_count": 54,
   "metadata": {},
   "outputs": [
    {
     "data": {
      "text/plain": [
       "'Life is long'"
      ]
     },
     "execution_count": 54,
     "metadata": {},
     "output_type": "execute_result"
    }
   ],
   "source": [
    "# 문자열 바꾸기 (replace)\n",
    "a = 'Life is short'\n",
    "a.replace('short', 'long')"
   ]
  },
  {
   "cell_type": "code",
   "execution_count": 55,
   "metadata": {},
   "outputs": [
    {
     "data": {
      "text/plain": [
       "['Life', 'is', 'short']"
      ]
     },
     "execution_count": 55,
     "metadata": {},
     "output_type": "execute_result"
    }
   ],
   "source": [
    "# 문자열 나누기 (split)\n",
    "a = 'Life is short'\n",
    "a.split()\n",
    "# 리스트로 반환\n",
    "# 인자에 구분기호를 지정해주면 구분기호기준으로 문자열을 분리"
   ]
  }
 ],
 "metadata": {
  "kernelspec": {
   "display_name": "Python 3",
   "language": "python",
   "name": "python3"
  },
  "language_info": {
   "codemirror_mode": {
    "name": "ipython",
    "version": 3
   },
   "file_extension": ".py",
   "mimetype": "text/x-python",
   "name": "python",
   "nbconvert_exporter": "python",
   "pygments_lexer": "ipython3",
   "version": "3.10.4"
  },
  "orig_nbformat": 4
 },
 "nbformat": 4,
 "nbformat_minor": 2
}
