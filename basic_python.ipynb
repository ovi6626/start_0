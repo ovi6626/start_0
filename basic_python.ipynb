{
 "cells": [
  {
   "attachments": {},
   "cell_type": "markdown",
   "metadata": {},
   "source": [
    "Python's operators\n",
    "------------------"
   ]
  },
  {
   "attachments": {},
   "cell_type": "markdown",
   "metadata": {},
   "source": [
    "#### 1. Python Arithmetic Operators"
   ]
  },
  {
   "cell_type": "code",
   "execution_count": 1,
   "metadata": {},
   "outputs": [
    {
     "name": "stdout",
     "output_type": "stream",
     "text": [
      "9\n",
      "5\n",
      "14\n",
      "3.5\n",
      "1\n",
      "3\n",
      "49\n"
     ]
    }
   ],
   "source": [
    "a = 7\n",
    "b = 2\n",
    "\n",
    "print(a + b)   # Addition\n",
    "\n",
    "print(a - b)   # Subtraction\n",
    "\n",
    "print(a * b)   # Multiplication\n",
    "\n",
    "print(a / b)   # Division\n",
    "\n",
    "print(a % b)   # Modulo\n",
    "\n",
    "print(a // b)  # Floor division\n",
    "\n",
    "print(a ** b)  # 5 to the power 2\n"
   ]
  },
  {
   "attachments": {},
   "cell_type": "markdown",
   "metadata": {},
   "source": [
    "Python's string\n",
    "---------------"
   ]
  },
  {
   "attachments": {},
   "cell_type": "markdown",
   "metadata": {},
   "source": [
    "#### 1. 문자열 표현"
   ]
  },
  {
   "cell_type": "code",
   "execution_count": 2,
   "metadata": {},
   "outputs": [
    {
     "name": "stdout",
     "output_type": "stream",
     "text": [
      "Hello world!\n",
      "My name is OVi,\n",
      "Python is\n",
      "so funny\n",
      "and easy\n",
      "than other langueges\n"
     ]
    }
   ],
   "source": [
    "print('Hello world!')\n",
    "print(\"My name is OVi,\")\n",
    "print('''Python is\n",
    "so funny''')\n",
    "print(\"\"\"and easy\n",
    "than other langueges\"\"\")\n",
    "# 4가지의 표현법\n",
    "# 따옴표 3개 표현은 긴 문장등을 깔끔하게 보기 위해서 작성 / 여러줄로 작성 가능"
   ]
  },
  {
   "cell_type": "code",
   "execution_count": 3,
   "metadata": {},
   "outputs": [
    {
     "name": "stdout",
     "output_type": "stream",
     "text": [
      "Python's great languege\n",
      "it's not that hard\n",
      "\"Life is short, You need PYthon\"\n"
     ]
    }
   ],
   "source": [
    "# 따옴표 문자열로 표현\n",
    "print(\"Python's great languege\") # 문자열을 큰 따옴표로 감싸고 작은 따옴표는 그대로 작성\n",
    "print('it\\'s not that hard') # \\' 로 표현\n",
    "print('\\\"Life is short, You need PYthon\\\"') # \\\" 로 표현"
   ]
  },
  {
   "cell_type": "code",
   "execution_count": 4,
   "metadata": {},
   "outputs": [
    {
     "name": "stdout",
     "output_type": "stream",
     "text": [
      "\\\n",
      "a\n",
      "b\n",
      "a\tb\n"
     ]
    }
   ],
   "source": [
    "print('\\\\') # \\ 역슬래쉬 표현\n",
    "print('a\\nb') # 줄바꿈 (개행)\n",
    "print('a\\tb') # 탭크기 만큼 띄어쓰기"
   ]
  },
  {
   "attachments": {},
   "cell_type": "markdown",
   "metadata": {},
   "source": [
    "#### 2.문자열 연산"
   ]
  },
  {
   "cell_type": "code",
   "execution_count": 5,
   "metadata": {},
   "outputs": [
    {
     "data": {
      "text/plain": [
       "'My name is OVi'"
      ]
     },
     "execution_count": 5,
     "metadata": {},
     "output_type": "execute_result"
    }
   ],
   "source": [
    "# string concatenation in +\n",
    "head = 'My name is '\n",
    "tail = 'OVi'\n",
    "head + tail"
   ]
  },
  {
   "cell_type": "code",
   "execution_count": 6,
   "metadata": {},
   "outputs": [
    {
     "data": {
      "text/plain": [
       "'OViOVi'"
      ]
     },
     "execution_count": 6,
     "metadata": {},
     "output_type": "execute_result"
    }
   ],
   "source": [
    "# string Multiplication\n",
    "tail * 2"
   ]
  },
  {
   "cell_type": "code",
   "execution_count": 7,
   "metadata": {},
   "outputs": [
    {
     "name": "stdout",
     "output_type": "stream",
     "text": [
      "==================================================\n",
      "My program from 2023.03.08\n",
      "==================================================\n"
     ]
    }
   ],
   "source": [
    "# application\n",
    "print('=' * 50)\n",
    "print('My program from 2023.03.08')\n",
    "print('=' * 50)"
   ]
  },
  {
   "cell_type": "code",
   "execution_count": 8,
   "metadata": {},
   "outputs": [
    {
     "data": {
      "text/plain": [
       "29"
      ]
     },
     "execution_count": 8,
     "metadata": {},
     "output_type": "execute_result"
    }
   ],
   "source": [
    "# string length\n",
    "a = 'Life is short You need Python'\n",
    "len(a)\n",
    "# 공백도 포함"
   ]
  },
  {
   "attachments": {},
   "cell_type": "markdown",
   "metadata": {},
   "source": [
    "#### 3. 문자열 인덱싱과 슬라이스"
   ]
  },
  {
   "cell_type": "code",
   "execution_count": 9,
   "metadata": {},
   "outputs": [],
   "source": [
    "a = 'Life is short You need Python'"
   ]
  },
  {
   "cell_type": "code",
   "execution_count": 10,
   "metadata": {},
   "outputs": [
    {
     "data": {
      "text/plain": [
       "'L'"
      ]
     },
     "execution_count": 10,
     "metadata": {},
     "output_type": "execute_result"
    }
   ],
   "source": [
    "# Python's number count starting 0\n",
    "a[0]"
   ]
  },
  {
   "cell_type": "code",
   "execution_count": 11,
   "metadata": {},
   "outputs": [
    {
     "data": {
      "text/plain": [
       "'n'"
      ]
     },
     "execution_count": 11,
     "metadata": {},
     "output_type": "execute_result"
    }
   ],
   "source": [
    "# - 는 뒤부터 출력\n",
    "a[-1] # 맨 뒤"
   ]
  },
  {
   "cell_type": "code",
   "execution_count": 12,
   "metadata": {},
   "outputs": [
    {
     "name": "stdout",
     "output_type": "stream",
     "text": [
      "Life\n",
      "Lif\n",
      "You need Python\n",
      "Life is short \n",
      "Life is short You need Python\n",
      "You need\n"
     ]
    }
   ],
   "source": [
    "# slicing\n",
    "# [start:end] <- end는 출력되지 않고 바로 앞 문자까지 출력 됨\n",
    "print(a[0:4])\n",
    "print(a[0:3])\n",
    "\n",
    "# end를 지정하지 않으면 끝까지 출력\n",
    "print(a[14:])\n",
    "# 반대로  start를 지정하지 않으면 처음부터 end바로 전까지 출력\n",
    "print(a[:14])\n",
    "# 둘다 생략하면 문자열 전체 출력\n",
    "print(a[:])\n",
    "\n",
    "# 응용\n",
    "print(a[14:-7])"
   ]
  },
  {
   "cell_type": "code",
   "execution_count": 13,
   "metadata": {},
   "outputs": [],
   "source": [
    "# 슬라이싱으로 문자열 나누기\n",
    "a = '20230308cloudy'\n",
    "date = a[:8]\n",
    "weather = a[8:]"
   ]
  },
  {
   "cell_type": "code",
   "execution_count": 14,
   "metadata": {},
   "outputs": [
    {
     "data": {
      "text/plain": [
       "'20230308'"
      ]
     },
     "execution_count": 14,
     "metadata": {},
     "output_type": "execute_result"
    }
   ],
   "source": [
    "date"
   ]
  },
  {
   "cell_type": "code",
   "execution_count": 15,
   "metadata": {},
   "outputs": [
    {
     "data": {
      "text/plain": [
       "'cloudy'"
      ]
     },
     "execution_count": 15,
     "metadata": {},
     "output_type": "execute_result"
    }
   ],
   "source": [
    "weather"
   ]
  },
  {
   "cell_type": "code",
   "execution_count": 16,
   "metadata": {},
   "outputs": [
    {
     "data": {
      "text/plain": [
       "'Python'"
      ]
     },
     "execution_count": 16,
     "metadata": {},
     "output_type": "execute_result"
    }
   ],
   "source": [
    "# 문자열 바꾸기\n",
    "a = 'Pithon'\n",
    "a[:1] + 'y' + a[2:]\n",
    "# 문자열은 인덱싱으로 내용을 바꾸어서 대입하는 것은 불가능"
   ]
  },
  {
   "attachments": {},
   "cell_type": "markdown",
   "metadata": {},
   "source": [
    "#### 4.문자열 포멧팅"
   ]
  },
  {
   "cell_type": "code",
   "execution_count": 17,
   "metadata": {},
   "outputs": [
    {
     "data": {
      "text/plain": [
       "\"I'm jogging 2 hours everyday\""
      ]
     },
     "execution_count": 17,
     "metadata": {},
     "output_type": "execute_result"
    }
   ],
   "source": [
    "# 문자열 안에 특정 값을 삽입할때 사용\n",
    "\n",
    "# 숫자 대입\n",
    "'I\\'m jogging %d hours everyday' % 2"
   ]
  },
  {
   "cell_type": "code",
   "execution_count": 18,
   "metadata": {},
   "outputs": [
    {
     "data": {
      "text/plain": [
       "\"I'm jogging two hours everyday\""
      ]
     },
     "execution_count": 18,
     "metadata": {},
     "output_type": "execute_result"
    }
   ],
   "source": [
    "# 문자 대입\n",
    "'I\\'m jogging %s hours everyday' % 'two'"
   ]
  },
  {
   "cell_type": "code",
   "execution_count": 19,
   "metadata": {},
   "outputs": [
    {
     "data": {
      "text/plain": [
       "\"I'm jogging 2 hours everyday\""
      ]
     },
     "execution_count": 19,
     "metadata": {},
     "output_type": "execute_result"
    }
   ],
   "source": [
    "# 변수 설정\n",
    "number = 2\n",
    "'I\\'m jogging %d hours everyday' % number"
   ]
  },
  {
   "cell_type": "code",
   "execution_count": 20,
   "metadata": {},
   "outputs": [
    {
     "data": {
      "text/plain": [
       "'I slept 7 hours last night, and waken at five am'"
      ]
     },
     "execution_count": 20,
     "metadata": {},
     "output_type": "execute_result"
    }
   ],
   "source": [
    "# 2개 이상의 값 넣기\n",
    "number = 7\n",
    "time = 'five'\n",
    "'I slept %d hours last night, and waken at %s am' % (number, time) # 콤마로 구분"
   ]
  },
  {
   "cell_type": "code",
   "execution_count": 21,
   "metadata": {},
   "outputs": [
    {
     "name": "stderr",
     "output_type": "stream",
     "text": [
      "UsageError: Line magic function `%s` not found.\n"
     ]
    }
   ],
   "source": [
    "# 문자열 포멧 코드\n",
    "%s  # 문자열 (string)\n",
    "%c  # 문자 1개 (character)\n",
    "%d  # 정수 (integer)\n",
    "%f  # 부동소수 (floating-point)\n",
    "%o  # 8진수\n",
    "%x  # 16진수\n",
    "%%  # Literal % (% 문자 자체)"
   ]
  },
  {
   "cell_type": "code",
   "execution_count": 22,
   "metadata": {},
   "outputs": [
    {
     "data": {
      "text/plain": [
       "'52.132 seconds'"
      ]
     },
     "execution_count": 22,
     "metadata": {},
     "output_type": "execute_result"
    }
   ],
   "source": [
    "# %s는 모든 입력을 문자열로 변환하여 출력\n",
    "'%s seconds' % 52.132"
   ]
  },
  {
   "cell_type": "code",
   "execution_count": 23,
   "metadata": {},
   "outputs": [
    {
     "data": {
      "text/plain": [
       "'     Hello'"
      ]
     },
     "execution_count": 23,
     "metadata": {},
     "output_type": "execute_result"
    }
   ],
   "source": [
    "# 포멧코드 앞에 숫자를 넣으면 문자열의 전체 길이를 지정하고 대입되는 값은 오른쪽 정렬\n",
    "'%10s' % 'Hello'"
   ]
  },
  {
   "cell_type": "code",
   "execution_count": 24,
   "metadata": {},
   "outputs": [
    {
     "data": {
      "text/plain": [
       "'Hello     world'"
      ]
     },
     "execution_count": 24,
     "metadata": {},
     "output_type": "execute_result"
    }
   ],
   "source": [
    "# 왼쪽 정렬\n",
    "'%-10sworld' % 'Hello'"
   ]
  },
  {
   "cell_type": "code",
   "execution_count": 25,
   "metadata": {},
   "outputs": [
    {
     "data": {
      "text/plain": [
       "'3.1416'"
      ]
     },
     "execution_count": 25,
     "metadata": {},
     "output_type": "execute_result"
    }
   ],
   "source": [
    "# 소숫점 표현\n",
    "'%0.4f' % 3.141592 # 네자리 까지만 표현"
   ]
  },
  {
   "cell_type": "code",
   "execution_count": 26,
   "metadata": {},
   "outputs": [
    {
     "data": {
      "text/plain": [
       "'    3.1416'"
      ]
     },
     "execution_count": 26,
     "metadata": {},
     "output_type": "execute_result"
    }
   ],
   "source": [
    "# 공백과 같이 표현\n",
    "'%10.4f' % 3.141592 # 길이를 10으로 고정하고 소수점 아래 네자리 까지만 표현"
   ]
  },
  {
   "attachments": {},
   "cell_type": "markdown",
   "metadata": {},
   "source": [
    "* format 함수 사용"
   ]
  },
  {
   "cell_type": "code",
   "execution_count": 27,
   "metadata": {},
   "outputs": [
    {
     "data": {
      "text/plain": [
       "'I slept 7 hours last night'"
      ]
     },
     "execution_count": 27,
     "metadata": {},
     "output_type": "execute_result"
    }
   ],
   "source": [
    "# 숫자 대입\n",
    "'I slept {0} hours last night'.format(7)"
   ]
  },
  {
   "cell_type": "code",
   "execution_count": 28,
   "metadata": {},
   "outputs": [
    {
     "data": {
      "text/plain": [
       "'I slept seven hours last night'"
      ]
     },
     "execution_count": 28,
     "metadata": {},
     "output_type": "execute_result"
    }
   ],
   "source": [
    "# 문자 대입\n",
    "'I slept {0} hours last night'.format('seven')"
   ]
  },
  {
   "cell_type": "code",
   "execution_count": 29,
   "metadata": {},
   "outputs": [
    {
     "data": {
      "text/plain": [
       "'I slept 7 hours last night'"
      ]
     },
     "execution_count": 29,
     "metadata": {},
     "output_type": "execute_result"
    }
   ],
   "source": [
    "# 변수 대입\n",
    "number = 7\n",
    "'I slept {0} hours last night'.format(number)"
   ]
  }
 ],
 "metadata": {
  "kernelspec": {
   "display_name": "Python 3",
   "language": "python",
   "name": "python3"
  },
  "language_info": {
   "codemirror_mode": {
    "name": "ipython",
    "version": 3
   },
   "file_extension": ".py",
   "mimetype": "text/x-python",
   "name": "python",
   "nbconvert_exporter": "python",
   "pygments_lexer": "ipython3",
   "version": "3.10.4"
  },
  "orig_nbformat": 4
 },
 "nbformat": 4,
 "nbformat_minor": 2
}
