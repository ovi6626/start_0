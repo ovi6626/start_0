{
 "cells": [
  {
   "attachments": {},
   "cell_type": "markdown",
   "metadata": {},
   "source": [
    "Python's operators\n",
    "------------------"
   ]
  },
  {
   "attachments": {},
   "cell_type": "markdown",
   "metadata": {},
   "source": [
    "#### 1. Python Arithmetic Operators"
   ]
  },
  {
   "cell_type": "code",
   "execution_count": 1,
   "metadata": {},
   "outputs": [
    {
     "name": "stdout",
     "output_type": "stream",
     "text": [
      "9\n",
      "5\n",
      "14\n",
      "3.5\n",
      "1\n",
      "3\n",
      "49\n"
     ]
    }
   ],
   "source": [
    "a = 7\n",
    "b = 2\n",
    "\n",
    "print(a + b)   # Addition\n",
    "\n",
    "print(a - b)   # Subtraction\n",
    "\n",
    "print(a * b)   # Multiplication\n",
    "\n",
    "print(a / b)   # Division\n",
    "\n",
    "print(a % b)   # Modulo\n",
    "\n",
    "print(a // b)  # Floor division\n",
    "\n",
    "print(a ** b)  # 5 to the power 2\n"
   ]
  },
  {
   "attachments": {},
   "cell_type": "markdown",
   "metadata": {},
   "source": [
    "Python's string\n",
    "---------------"
   ]
  },
  {
   "attachments": {},
   "cell_type": "markdown",
   "metadata": {},
   "source": [
    "#### 1. 문자열 표현"
   ]
  },
  {
   "cell_type": "code",
   "execution_count": 18,
   "metadata": {},
   "outputs": [
    {
     "name": "stdout",
     "output_type": "stream",
     "text": [
      "Hello world!\n",
      "My name is OVi,\n",
      "Python is\n",
      "so funny\n",
      "and easy\n",
      "than other langueges\n"
     ]
    }
   ],
   "source": [
    "print('Hello world!')\n",
    "print(\"My name is OVi,\")\n",
    "print('''Python is\n",
    "so funny''')\n",
    "print(\"\"\"and easy\n",
    "than other langueges\"\"\")\n",
    "# 4가지의 표현법\n",
    "# 따옴표 3개 표현은 긴 문장등을 깔끔하게 보기 위해서 작성 / 여러줄로 작성 가능"
   ]
  },
  {
   "cell_type": "code",
   "execution_count": 13,
   "metadata": {},
   "outputs": [
    {
     "name": "stdout",
     "output_type": "stream",
     "text": [
      "Python's great languege\n",
      "it's not that hard\n",
      "\"Life is short, You need PYthon\"\n"
     ]
    }
   ],
   "source": [
    "# 따옴표 문자열로 표현\n",
    "print(\"Python's great languege\") # 문자열을 큰 따옴표로 감싸고 작은 따옴표는 그대로 작성\n",
    "print('it\\'s not that hard') # \\' 로 표현\n",
    "print('\\\"Life is short, You need PYthon\\\"') # \\\" 로 표현"
   ]
  },
  {
   "cell_type": "code",
   "execution_count": 16,
   "metadata": {},
   "outputs": [
    {
     "name": "stdout",
     "output_type": "stream",
     "text": [
      "\\\n",
      "a\n",
      "b\n",
      "a\tb\n"
     ]
    }
   ],
   "source": [
    "print('\\\\') # \\ 역슬래쉬 표현\n",
    "print('a\\nb') # 줄바꿈 (개행)\n",
    "print('a\\tb') # 탭크기 만큼 띄어쓰기"
   ]
  }
 ],
 "metadata": {
  "kernelspec": {
   "display_name": "Python 3",
   "language": "python",
   "name": "python3"
  },
  "language_info": {
   "codemirror_mode": {
    "name": "ipython",
    "version": 3
   },
   "file_extension": ".py",
   "mimetype": "text/x-python",
   "name": "python",
   "nbconvert_exporter": "python",
   "pygments_lexer": "ipython3",
   "version": "3.10.4"
  },
  "orig_nbformat": 4
 },
 "nbformat": 4,
 "nbformat_minor": 2
}
