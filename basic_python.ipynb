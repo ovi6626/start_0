{
 "cells": [
  {
   "attachments": {},
   "cell_type": "markdown",
   "metadata": {},
   "source": [
    "Python's operators\n",
    "------------------"
   ]
  },
  {
   "attachments": {},
   "cell_type": "markdown",
   "metadata": {},
   "source": [
    "#### 1. Python Arithmetic Operators"
   ]
  },
  {
   "cell_type": "code",
   "execution_count": 1,
   "metadata": {},
   "outputs": [
    {
     "name": "stdout",
     "output_type": "stream",
     "text": [
      "9\n",
      "5\n",
      "14\n",
      "3.5\n",
      "1\n",
      "3\n",
      "49\n"
     ]
    }
   ],
   "source": [
    "a = 7\n",
    "b = 2\n",
    "\n",
    "print(a + b)   # Addition\n",
    "\n",
    "print(a - b)   # Subtraction\n",
    "\n",
    "print(a * b)   # Multiplication\n",
    "\n",
    "print(a / b)   # Division\n",
    "\n",
    "print(a % b)   # Modulo\n",
    "\n",
    "print(a // b)  # Floor division\n",
    "\n",
    "print(a ** b)  # 5 to the power 2\n"
   ]
  },
  {
   "attachments": {},
   "cell_type": "markdown",
   "metadata": {},
   "source": [
    "Python's string\n",
    "---------------"
   ]
  },
  {
   "attachments": {},
   "cell_type": "markdown",
   "metadata": {},
   "source": [
    "#### 1. 문자열 표현"
   ]
  },
  {
   "cell_type": "code",
   "execution_count": 18,
   "metadata": {},
   "outputs": [
    {
     "name": "stdout",
     "output_type": "stream",
     "text": [
      "Hello world!\n",
      "My name is OVi,\n",
      "Python is\n",
      "so funny\n",
      "and easy\n",
      "than other langueges\n"
     ]
    }
   ],
   "source": [
    "print('Hello world!')\n",
    "print(\"My name is OVi,\")\n",
    "print('''Python is\n",
    "so funny''')\n",
    "print(\"\"\"and easy\n",
    "than other langueges\"\"\")\n",
    "# 4가지의 표현법\n",
    "# 따옴표 3개 표현은 긴 문장등을 깔끔하게 보기 위해서 작성 / 여러줄로 작성 가능"
   ]
  },
  {
   "cell_type": "code",
   "execution_count": 13,
   "metadata": {},
   "outputs": [
    {
     "name": "stdout",
     "output_type": "stream",
     "text": [
      "Python's great languege\n",
      "it's not that hard\n",
      "\"Life is short, You need PYthon\"\n"
     ]
    }
   ],
   "source": [
    "# 따옴표 문자열로 표현\n",
    "print(\"Python's great languege\") # 문자열을 큰 따옴표로 감싸고 작은 따옴표는 그대로 작성\n",
    "print('it\\'s not that hard') # \\' 로 표현\n",
    "print('\\\"Life is short, You need PYthon\\\"') # \\\" 로 표현"
   ]
  },
  {
   "cell_type": "code",
   "execution_count": 16,
   "metadata": {},
   "outputs": [
    {
     "name": "stdout",
     "output_type": "stream",
     "text": [
      "\\\n",
      "a\n",
      "b\n",
      "a\tb\n"
     ]
    }
   ],
   "source": [
    "print('\\\\') # \\ 역슬래쉬 표현\n",
    "print('a\\nb') # 줄바꿈 (개행)\n",
    "print('a\\tb') # 탭크기 만큼 띄어쓰기"
   ]
  },
  {
   "attachments": {},
   "cell_type": "markdown",
   "metadata": {},
   "source": [
    "#### 2.문자열 연산"
   ]
  },
  {
   "cell_type": "code",
   "execution_count": 3,
   "metadata": {},
   "outputs": [
    {
     "data": {
      "text/plain": [
       "'My name is OVi'"
      ]
     },
     "execution_count": 3,
     "metadata": {},
     "output_type": "execute_result"
    }
   ],
   "source": [
    "# string concatenation in +\n",
    "head = 'My name is '\n",
    "tail = 'OVi'\n",
    "head + tail"
   ]
  },
  {
   "cell_type": "code",
   "execution_count": 4,
   "metadata": {},
   "outputs": [
    {
     "data": {
      "text/plain": [
       "'OViOVi'"
      ]
     },
     "execution_count": 4,
     "metadata": {},
     "output_type": "execute_result"
    }
   ],
   "source": [
    "# string Multiplication\n",
    "tail * 2"
   ]
  },
  {
   "cell_type": "code",
   "execution_count": 5,
   "metadata": {},
   "outputs": [
    {
     "name": "stdout",
     "output_type": "stream",
     "text": [
      "==================================================\n",
      "My program from 2023.03.08\n",
      "==================================================\n"
     ]
    }
   ],
   "source": [
    "# application\n",
    "print('=' * 50)\n",
    "print('My program from 2023.03.08')\n",
    "print('=' * 50)"
   ]
  },
  {
   "cell_type": "code",
   "execution_count": 6,
   "metadata": {},
   "outputs": [
    {
     "data": {
      "text/plain": [
       "29"
      ]
     },
     "execution_count": 6,
     "metadata": {},
     "output_type": "execute_result"
    }
   ],
   "source": [
    "# string length\n",
    "a = 'Life is short You need Python'\n",
    "len(a)\n",
    "# 공백도 포함"
   ]
  },
  {
   "attachments": {},
   "cell_type": "markdown",
   "metadata": {},
   "source": [
    "#### 3. 문자열 인덱싱과 슬라이스"
   ]
  },
  {
   "cell_type": "code",
   "execution_count": 7,
   "metadata": {},
   "outputs": [],
   "source": [
    "a = 'Life is short You need Python'"
   ]
  },
  {
   "cell_type": "code",
   "execution_count": 9,
   "metadata": {},
   "outputs": [
    {
     "data": {
      "text/plain": [
       "'L'"
      ]
     },
     "execution_count": 9,
     "metadata": {},
     "output_type": "execute_result"
    }
   ],
   "source": [
    "# Python's number count starting 0\n",
    "a[0]"
   ]
  },
  {
   "cell_type": "code",
   "execution_count": 10,
   "metadata": {},
   "outputs": [
    {
     "data": {
      "text/plain": [
       "'n'"
      ]
     },
     "execution_count": 10,
     "metadata": {},
     "output_type": "execute_result"
    }
   ],
   "source": [
    "# - 는 뒤부터 출력\n",
    "a[-1] # 맨 뒤"
   ]
  },
  {
   "cell_type": "code",
   "execution_count": 27,
   "metadata": {},
   "outputs": [
    {
     "name": "stdout",
     "output_type": "stream",
     "text": [
      "Life\n",
      "Lif\n",
      "You need Python\n",
      "Life is short \n",
      "Life is short You need Python\n",
      "You need\n"
     ]
    }
   ],
   "source": [
    "# slicing\n",
    "# [start:end] <- end는 출력되지 않고 바로 앞 문자까지 출력 됨\n",
    "print(a[0:4])\n",
    "print(a[0:3])\n",
    "\n",
    "# end를 지정하지 않으면 끝까지 출력\n",
    "print(a[14:])\n",
    "# 반대로  start를 지정하지 않으면 처음부터 end바로 전까지 출력\n",
    "print(a[:14])\n",
    "# 둘다 생략하면 문자열 전체 출력\n",
    "print(a[:])\n",
    "\n",
    "# 응용\n",
    "print(a[14:-7])"
   ]
  },
  {
   "cell_type": "code",
   "execution_count": 28,
   "metadata": {},
   "outputs": [],
   "source": [
    "# 슬라이싱으로 문자열 나누기\n",
    "a = '20230308cloudy'\n",
    "date = a[:8]\n",
    "weather = a[8:]"
   ]
  },
  {
   "cell_type": "code",
   "execution_count": 29,
   "metadata": {},
   "outputs": [
    {
     "data": {
      "text/plain": [
       "'20230308'"
      ]
     },
     "execution_count": 29,
     "metadata": {},
     "output_type": "execute_result"
    }
   ],
   "source": [
    "date"
   ]
  },
  {
   "cell_type": "code",
   "execution_count": 30,
   "metadata": {},
   "outputs": [
    {
     "data": {
      "text/plain": [
       "'cloudy'"
      ]
     },
     "execution_count": 30,
     "metadata": {},
     "output_type": "execute_result"
    }
   ],
   "source": [
    "weather"
   ]
  },
  {
   "cell_type": "code",
   "execution_count": 33,
   "metadata": {},
   "outputs": [
    {
     "data": {
      "text/plain": [
       "'Python'"
      ]
     },
     "execution_count": 33,
     "metadata": {},
     "output_type": "execute_result"
    }
   ],
   "source": [
    "# 문자열 바꾸기\n",
    "a = 'Pithon'\n",
    "a[:1] + 'y' + a[2:]\n",
    "# 문자열은 인덱싱으로 내용을 바꾸어서 대입하는 것은 불가능"
   ]
  },
  {
   "attachments": {},
   "cell_type": "markdown",
   "metadata": {},
   "source": [
    "#### 4.문자열 포멧팅"
   ]
  },
  {
   "cell_type": "markdown",
   "metadata": {},
   "source": []
  }
 ],
 "metadata": {
  "kernelspec": {
   "display_name": "Python 3",
   "language": "python",
   "name": "python3"
  },
  "language_info": {
   "codemirror_mode": {
    "name": "ipython",
    "version": 3
   },
   "file_extension": ".py",
   "mimetype": "text/x-python",
   "name": "python",
   "nbconvert_exporter": "python",
   "pygments_lexer": "ipython3",
   "version": "3.10.4"
  },
  "orig_nbformat": 4
 },
 "nbformat": 4,
 "nbformat_minor": 2
}
